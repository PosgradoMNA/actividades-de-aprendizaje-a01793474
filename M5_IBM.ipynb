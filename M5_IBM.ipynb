{
  "cells": [
    {
      "cell_type": "markdown",
      "metadata": {
        "colab_type": "text",
        "id": "view-in-github"
      },
      "source": [
        "<a href=\"https://colab.research.google.com/github/tec03/ParaAssignment01-/blob/main/assignment01.ipynb\" target=\"_parent\"><img src=\"https://colab.research.google.com/assets/colab-badge.svg\" alt=\"Open In Colab\"/></a>"
      ]
    },
    {
      "cell_type": "code",
      "execution_count": null,
      "metadata": {
        "colab": {
          "base_uri": "https://localhost:8080/"
        },
        "id": "LzUSMM79NR9P",
        "outputId": "0e6cb421-1096-426a-b31a-f61d059def81"
      },
      "outputs": [],
      "source": [
        "# Numpy\n",
        "\n",
        "import numpy as np # Import Numpy \n",
        "print(np.__version__)\n",
        "\n",
        "a=np.array([0,1,2,3,4]) # Create Array by list\n",
        "print(a)\n",
        "print(type(a)) # Type numphy.ndarray\n",
        "print(a[0]) # Access the 0 th value\n",
        "print(a.size) # Get number of elements\n",
        "print(a.ndim) # Get number of dimensions\n",
        "print(a.shape) # Get size by dimension\n",
        "\n",
        "# Change value to a single index\n",
        "a[0]= 1\n",
        "print(a)\n",
        "\n",
        "# Slice ndarray\n",
        "b=a[0:2]\n",
        "print(b)\n",
        "\n",
        "# Operations\n",
        "\n",
        "# Not Using numpy\n",
        "u=[1,0]\n",
        "v=[0,1]\n",
        "w=u+v\n",
        "print(w)\n",
        "\n",
        "# Using numpy\n",
        "i=np.array([1,0])\n",
        "j=np.array([0,1])\n",
        "\n",
        "# Sum\n",
        "k=i+j\n",
        "print(k)\n",
        "print(np.add(i,j))\n",
        "\n",
        "# Substract\n",
        "k=i-j\n",
        "print(k)\n",
        "\n",
        "# Multiplication by scalar value\n",
        "k=2*k\n",
        "print(k)\n",
        "\n",
        "# Multiplication by another vector\n",
        "k=i*k\n",
        "print(k)\n",
        "\n",
        "# Calculate similarity\n",
        "check=np.dot(i,k)\n",
        "print(check)\n",
        "\n",
        "# Broadcasting (add/substract to all values)\n",
        "k=k+1\n",
        "print(k)\n",
        "\n",
        "# Functions\n",
        "array=np.array([1,2,2,5])\n",
        "print(array.mean()) # Get Mean of array\n",
        "print(array.max()) # Get Max value of array\n",
        "print(array.std()) # Get Standard Deviation value of array\n",
        "print(np.pi) # Get pi value\n",
        "x=np.array([0,np.pi/2,np.pi])\n",
        "print(np.sin(x)) # Do de sin to each element of the array\n",
        "print(np.linspace(-2,2,num=5)) # Create secuence of 5 values in -2 to 2 interval\n"
      ]
    },
    {
      "cell_type": "code",
      "execution_count": null,
      "metadata": {
        "id": "mxM_WppZPMFx"
      },
      "outputs": [],
      "source": [
        "# Matplot\n",
        "import numpy as np \n",
        "import matplotlib.pyplot as plt\n",
        "\n",
        "x=np.linspace(0,2*np.pi,100)\n",
        "y=np.sin(x)\n",
        "\n",
        "%matplotlib inline\n",
        "plt.plot(x,y)"
      ]
    },
    {
      "cell_type": "code",
      "execution_count": null,
      "metadata": {},
      "outputs": [],
      "source": [
        "# Multi dimensions\n",
        "import numpy as np \n",
        "\n",
        "a=[[11,12,13],[21,22,23],[31,32,33]]\n",
        "A =np.array(a)\n",
        "print(A)\n",
        "print(A.ndim) # No of nested lists\n",
        "print(A.shape) # Tuple no of rows and no of columns\n",
        "print(A.size) # No of values\n",
        "\n",
        "print(A[0][0]) # Access value in 0 row and 0 column\n",
        "print(A[0][0:2]) # Slice from 0 row from 0 to 2 index in colmun\n",
        "\n",
        "# Matrix operations\n",
        "x=np.array([[1,0],[0,1]])\n",
        "y=np.array([[2,1],[1,2]])\n",
        "print(x+y)\n",
        "print(y*2)\n",
        "print(x*y)\n",
        "\n",
        "a=np.array([[0,1,1],[1,0,1]])\n",
        "b=np.array([[1,1],[1,1],[-1,1]])\n",
        "print(np.dot(a,b))\n",
        "print(a.T) # Transpose\n"
      ]
    },
    {
      "cell_type": "code",
      "execution_count": null,
      "metadata": {},
      "outputs": [],
      "source": [
        "# APIs\n",
        "import requests\n",
        "import os \n",
        "from PIL import Image\n",
        "from IPython.display import IFrame\n",
        "\n",
        "url='https://www.ibm.com/' # URL of request\n",
        "r=requests.get(url) # Get command\n",
        "r.status_code # Get status of request 200 OK\n",
        "r.request.headers # Header of the request\n",
        "r.request.body # Body of the request\n",
        "r.encoding # Check encoding type\n",
        "header=r.headers # Dictionary of headers\n",
        "print(header['date']) # Access value of dictionary\n",
        "\n",
        "# Get image and Save\n",
        "url='https://cf-courses-data.s3.us.cloud-object-storage.appdomain.cloud/IBMDeveloperSkillsNetwork-PY0101EN-SkillsNetwork/IDSNlogo.png'\n",
        "r=requests.get(url)\n",
        "path=os.path.join(os.getcwd(),'image.png')\n",
        "with open(path,'wb') as f:\n",
        "    f.write(r.content)\n",
        "Image.open(path)  \n",
        "\n",
        "\n"
      ]
    },
    {
      "cell_type": "code",
      "execution_count": null,
      "metadata": {},
      "outputs": [],
      "source": [
        "# Create random list of users\n",
        "from randomuser import RandomUser\n",
        "import pandas as pd\n",
        "\n",
        "def get_users():\n",
        "    users =[]\n",
        "     \n",
        "    for user in RandomUser.generate_users(10):\n",
        "        users.append({\"Name\":user.get_full_name(),\"Gender\":user.get_gender(),\"City\":user.get_city(),\"State\":user.get_state(),\"Email\":user.get_email(), \"DOB\":user.get_dob(),\"Picture\":user.get_picture()})\n",
        "      \n",
        "    return pd.DataFrame(users)    \n",
        "\n",
        "print(get_users())"
      ]
    },
    {
      "cell_type": "code",
      "execution_count": null,
      "metadata": {},
      "outputs": [],
      "source": [
        "import requests\n",
        "import json\n",
        "import pandas as pd\n",
        "\n",
        "data = requests.get(\"https://www.fruityvice.com/api/fruit/all\")\n",
        "results = json.loads(data.text)\n",
        "pd.DataFrame(results)\n",
        "df2 = pd.json_normalize(results)\n",
        "df2.head()"
      ]
    },
    {
      "cell_type": "code",
      "execution_count": null,
      "metadata": {},
      "outputs": [],
      "source": []
    }
  ],
  "metadata": {
    "colab": {
      "include_colab_link": true,
      "name": "assignment01.ipynb",
      "provenance": []
    },
    "kernelspec": {
      "display_name": "Python 3.10.1 64-bit",
      "language": "python",
      "name": "python3"
    },
    "language_info": {
      "codemirror_mode": {
        "name": "ipython",
        "version": 3
      },
      "file_extension": ".py",
      "mimetype": "text/x-python",
      "name": "python",
      "nbconvert_exporter": "python",
      "pygments_lexer": "ipython3",
      "version": "3.10.1"
    },
    "vscode": {
      "interpreter": {
        "hash": "369f2c481f4da34e4445cda3fffd2e751bd1c4d706f27375911949ba6bb62e1c"
      }
    }
  },
  "nbformat": 4,
  "nbformat_minor": 0
}
