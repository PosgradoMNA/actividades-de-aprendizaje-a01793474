{
  "cells": [
    {
      "cell_type": "markdown",
      "metadata": {
        "colab_type": "text",
        "id": "view-in-github"
      },
      "source": [
        "<a href=\"https://colab.research.google.com/github/tec03/ParaAssignment01-/blob/main/assignment01.ipynb\" target=\"_parent\"><img src=\"https://colab.research.google.com/assets/colab-badge.svg\" alt=\"Open In Colab\"/></a>"
      ]
    },
    {
      "cell_type": "code",
      "execution_count": null,
      "metadata": {
        "colab": {
          "base_uri": "https://localhost:8080/"
        },
        "id": "LzUSMM79NR9P",
        "outputId": "0e6cb421-1096-426a-b31a-f61d059def81"
      },
      "outputs": [],
      "source": [
        "# Create comment with #"
      ]
    },
    {
      "cell_type": "code",
      "execution_count": null,
      "metadata": {},
      "outputs": [],
      "source": [
        "# Types\n",
        "True # bool\n",
        "1 # int\n",
        "1.2 # float\n",
        "[1,2] # list\n",
        "(1,2) # tuple\n",
        "{1,2} # set"
      ]
    },
    {
      "cell_type": "code",
      "execution_count": null,
      "metadata": {
        "id": "mxM_WppZPMFx"
      },
      "outputs": [],
      "source": [
        "# Print Data\n",
        "print('Data')\n",
        "print(\"Data\")#same"
      ]
    },
    {
      "cell_type": "code",
      "execution_count": null,
      "metadata": {},
      "outputs": [],
      "source": [
        "# Escape characters\n",
        "print(\"line 1\\nline 2\") # new line\n",
        "print(\"line 1\\tline 2\") # tab\n",
        "print(\"line 1\\\\line 2\") # \\\n",
        "print(r\"line 1\\line 2\") # \\ escape by r function"
      ]
    },
    {
      "cell_type": "code",
      "execution_count": null,
      "metadata": {},
      "outputs": [],
      "source": [
        "# Variable definition\n",
        "x=100\n",
        "\n",
        "# Print value of x in last line of cell\n",
        "x"
      ]
    },
    {
      "cell_type": "code",
      "execution_count": null,
      "metadata": {},
      "outputs": [],
      "source": [
        "# Get object type\n",
        "print(type(1))\n",
        "print(type(1.1))\n",
        "print(type(True))\n",
        "Tuple=(1,2)\n",
        "print(type(Tuple))\n",
        "List=[1,2]\n",
        "print(type(List))\n",
        "Set={1,2}\n",
        "print(type(Set))\n",
        "Dict = {\"key1\":1,\"key2\":2}\n",
        "print(type(Dict))"
      ]
    },
    {
      "cell_type": "code",
      "execution_count": null,
      "metadata": {},
      "outputs": [],
      "source": [
        "# Check the Python Version\n",
        "import sys\n",
        "print(sys.version)"
      ]
    },
    {
      "cell_type": "code",
      "execution_count": null,
      "metadata": {},
      "outputs": [],
      "source": [
        "# Check float limits\n",
        "import sys\n",
        "print(sys.float_info)"
      ]
    },
    {
      "cell_type": "code",
      "execution_count": null,
      "metadata": {},
      "outputs": [],
      "source": [
        "# Get char by Indexes\n",
        "name='My Name is Juan'\n",
        "print(len(name)) # Get number of chars in string\n",
        "print(name[0]) # First char\n",
        "print(name[0:2]) # First to index\n",
        "print(name[0:10:2]) # First to index by num\n",
        "print(name[-1]) # Last char"
      ]
    },
    {
      "cell_type": "code",
      "execution_count": null,
      "metadata": {},
      "outputs": [],
      "source": [
        "# String Methods\n",
        "A=\"char\"\n",
        "print(A)\n",
        "B=A.upper() # Change to upper case\n",
        "print(B)\n",
        "C=A+B # Add strings\n",
        "print(C)\n",
        "B=A.replace('char','other') # Replace string\n",
        "print(B)\n",
        "print(A.find('r')) # Find index of char\n",
        "A = 'hello world'\n",
        "print(A.split()) # Split string into list by spaces\n",
        "A = 'hello,world'\n",
        "print(A.split(',')) # Split string into list by delimiter"
      ]
    },
    {
      "cell_type": "code",
      "execution_count": null,
      "metadata": {},
      "outputs": [],
      "source": [
        "# Cast to other type\n",
        "print(int(1.1))\n",
        "print(float(1))\n",
        "print(bool(1))\n",
        "print(int(True))\n",
        "print(float(False))\n",
        "List=[1,2,3,3]\n",
        "print(set(List))"
      ]
    },
    {
      "cell_type": "code",
      "execution_count": null,
      "metadata": {},
      "outputs": [],
      "source": [
        "# Operations\n",
        "print(1+1) # sum\n",
        "print(1-1) # sub\n",
        "print(1*1) # mult\n",
        "print(8/6) # div float\n",
        "print(8//6) # div int\n",
        "print((4+4)/(2*3)) # parenthesis \n",
        "print(4+4/2*3) # no parenthesis "
      ]
    },
    {
      "cell_type": "code",
      "execution_count": null,
      "metadata": {},
      "outputs": [],
      "source": [
        "# Tuples\n",
        "Tuple=(\"str\",1,1.2) # Type not important\n",
        "print(Tuple[0]) # Access value by index\n",
        "Tuple2 = (\"st2\",'str3') \n",
        "Tuple=Tuple+Tuple2 # Add tuples \n",
        "print(Tuple[4]) # Access values with added tuples\n",
        "print(len(Tuple)) # Get number of objects (num of objects)\n",
        "Tuple=Tuple[0:2] # Slice tuples NOTE: len +1 if last\n",
        "print(len(Tuple)) \n",
        "Tuple = (4,2,3,1)\n",
        "Tuple=sorted(Tuple) # Sort tuple\n",
        "print(Tuple)\n",
        "Tuple=((1,2),(2,3),('1','2'),[1,2],{1,2}) # Tuple of tuples includes lists and sets\n",
        "print(Tuple[2][1]) # Access nested tuple with index"
      ]
    },
    {
      "cell_type": "code",
      "execution_count": null,
      "metadata": {},
      "outputs": [],
      "source": [
        "# Lists\n",
        "List=['str',1,1.2,[1,2],(1,2),{1,2}] # Type not important include list or tuples or sets\n",
        "print(len(List)) # Get length of list (num of objects)\n",
        "print(List[3]) # Access by index \n",
        "List=List[4:6] # Slice lists NOTE: len +1 if last\n",
        "print(List)\n",
        "List1=['str']\n",
        "List=List+List1 # Add Lists\n",
        "print(List)\n",
        "List.extend([1,1.2]) # Extend List same as add list\n",
        "print(List)\n",
        "List.append([1,2]) # Add list to a list (not add lists)\n",
        "print(List)\n",
        "List[0] = 'changed' # Changes variable in list by index\n",
        "print(List)\n",
        "del(List[0]) # Delete index from list\n",
        "print(List)\n",
        "List2 = List[:] # Clone list"
      ]
    },
    {
      "cell_type": "code",
      "execution_count": null,
      "metadata": {},
      "outputs": [],
      "source": [
        "# Sets\n",
        "List=[1,1,3,3,4]\n",
        "Set=set(List)\n",
        "print(Set) # List of no duplicates\n",
        "Set.add(2) # Add value to set\n",
        "print(Set) \n",
        "Set.remove(3) # Remove value from set\n",
        "print(Set) \n",
        "print(2 in Set) # Check if value is in set\n",
        "Set2 ={1,3,5}\n",
        "print(Set&Set2) # Check interseccion between sets\n",
        "print(Set.union(Set2)) # Unite sets\n",
        "Set1 ={1,2}\n",
        "print(Set1.issubset(Set)) # Check if a set is a subset of other set\n",
        "print(Set.issuperset(Set1)) # Check if a set is a superset of other set\n",
        "print(Set.difference(Set2)) # Check diferences between sets\n",
        "print(Set.intersection(Set2)) # Check intersection between sets"
      ]
    },
    {
      "cell_type": "code",
      "execution_count": null,
      "metadata": {},
      "outputs": [],
      "source": [
        "# Dictionaries\n",
        "Dict = {\"Str\":'text',\"Int\":2,\"Float\":3.2,\"List\":[1,2]} # Create a dictionary type not important\n",
        "print(Dict['Str']) # Use de key as a index to find the value\n",
        "Dict['Tuple'] = (1,2) # Add new value to dictionary\n",
        "print(Dict) \n",
        "del(Dict['Str']) # Remove from dictionary\n",
        "print(Dict) \n",
        "print('Tuple' in Dict) # Check if key is in dictionary\n",
        "print(Dict.keys()) # Get a list of keys\n",
        "print(Dict.values()) # Get a list of values"
      ]
    }
  ],
  "metadata": {
    "colab": {
      "include_colab_link": true,
      "name": "assignment01.ipynb",
      "provenance": []
    },
    "kernelspec": {
      "display_name": "Python 3.10.1 64-bit",
      "language": "python",
      "name": "python3"
    },
    "language_info": {
      "codemirror_mode": {
        "name": "ipython",
        "version": 3
      },
      "file_extension": ".py",
      "mimetype": "text/x-python",
      "name": "python",
      "nbconvert_exporter": "python",
      "pygments_lexer": "ipython3",
      "version": "3.10.1"
    },
    "vscode": {
      "interpreter": {
        "hash": "369f2c481f4da34e4445cda3fffd2e751bd1c4d706f27375911949ba6bb62e1c"
      }
    }
  },
  "nbformat": 4,
  "nbformat_minor": 0
}
