{
  "cells": [
    {
      "cell_type": "markdown",
      "metadata": {
        "colab_type": "text",
        "id": "view-in-github"
      },
      "source": [
        "<a href=\"https://colab.research.google.com/github/tec03/ParaAssignment01-/blob/main/assignment01.ipynb\" target=\"_parent\"><img src=\"https://colab.research.google.com/assets/colab-badge.svg\" alt=\"Open In Colab\"/></a>"
      ]
    },
    {
      "cell_type": "code",
      "execution_count": null,
      "metadata": {
        "colab": {
          "base_uri": "https://localhost:8080/"
        },
        "id": "LzUSMM79NR9P",
        "outputId": "0e6cb421-1096-426a-b31a-f61d059def81"
      },
      "outputs": [],
      "source": [
        "# Files\n",
        "path='.\\\\'\n",
        "filename='test.txt'\n",
        "\n",
        "# Write file\n",
        "File1 = open(path+filename,'w') # W for Writing \n",
        "File1.write('line 1 \\n')\n",
        "File1.write('line 2 \\n')\n",
        "File1.close() # Always Close\n",
        "\n",
        "# Append file\n",
        "File1 = open(path+filename,'a') # A for Appending\n",
        "File1.write('line 3')\n",
        "File1.close() # Always Close\n",
        "\n",
        "# Read File\n",
        "File1 = open(path+filename,'r') # R for Reading\n",
        "print(File1.name) # Get Object Path+FileName\n",
        "print(File1.mode) # Get the mode in which the file was open (r,w,a)\n",
        "File1.close() # Always Close\n",
        "\n",
        "# Other Modes\n",
        "#    r+ : Reading and writing. Cannot truncate the file.\n",
        "#    w+ : Writing and reading. Truncates the file.\n",
        "#    a+ : Appending and Reading. Creates a new file, if none exists.\n",
        "\n",
        "\n",
        "# Using With to not have to use .close()\n",
        "with open(path+filename,'r') as File2:\n",
        "    file_stuff=File2.read(4) # Read as is chars\n",
        "    print(file_stuff)\n",
        "\n",
        "with open(path+filename,'r') as File2:\n",
        "    file_stuff=File2.readlines(2) # Read within line num of char\n",
        "    print(file_stuff)\n",
        "\n",
        "with open(path+filename,'r') as File2:\n",
        "    for line in File2:\n",
        "        print(line)"
      ]
    },
    {
      "cell_type": "code",
      "execution_count": null,
      "metadata": {
        "id": "mxM_WppZPMFx"
      },
      "outputs": [],
      "source": []
    }
  ],
  "metadata": {
    "colab": {
      "include_colab_link": true,
      "name": "assignment01.ipynb",
      "provenance": []
    },
    "kernelspec": {
      "display_name": "Python 3.10.1 64-bit",
      "language": "python",
      "name": "python3"
    },
    "language_info": {
      "codemirror_mode": {
        "name": "ipython",
        "version": 3
      },
      "file_extension": ".py",
      "mimetype": "text/x-python",
      "name": "python",
      "nbconvert_exporter": "python",
      "pygments_lexer": "ipython3",
      "version": "3.10.1"
    },
    "vscode": {
      "interpreter": {
        "hash": "369f2c481f4da34e4445cda3fffd2e751bd1c4d706f27375911949ba6bb62e1c"
      }
    }
  },
  "nbformat": 4,
  "nbformat_minor": 0
}
