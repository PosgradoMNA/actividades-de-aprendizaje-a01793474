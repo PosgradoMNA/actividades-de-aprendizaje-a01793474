{
  "cells": [
    {
      "cell_type": "markdown",
      "metadata": {
        "colab_type": "text",
        "id": "view-in-github"
      },
      "source": [
        "<a href=\"https://colab.research.google.com/github/tec03/ParaAssignment01-/blob/main/assignment01.ipynb\" target=\"_parent\"><img src=\"https://colab.research.google.com/assets/colab-badge.svg\" alt=\"Open In Colab\"/></a>"
      ]
    },
    {
      "cell_type": "markdown",
      "metadata": {},
      "source": [
        "Semana 3 Actividad 1 TC4029 Ciencia y Analitica de Datos \n",
        "Profesor Titular: Jobish Vallikavungal Devassia \n",
        "\n",
        "Juan Pablo Bladinieres Martin del Campo A01793474\n",
        "29 de Septiembre del 2022\n"
      ]
    },
    {
      "cell_type": "code",
      "execution_count": null,
      "metadata": {
        "colab": {
          "base_uri": "https://localhost:8080/"
        },
        "id": "LzUSMM79NR9P",
        "outputId": "0e6cb421-1096-426a-b31a-f61d059def81"
      },
      "outputs": [],
      "source": [
        "# Get Data\n",
        "import requests\n",
        "import os\n",
        "\n",
        "url='https://raw.githubusercontent.com/PosgradoMNA/Actividades_Aprendizaje-/main/default%20of%20credit%20card%20clients.csv'\n",
        "r=requests.get(url)\n",
        "path=os.path.join(os.getcwd(),'clients.csv')\n",
        "with open(path,'wb') as f:\n",
        "    f.write(r.content)\n",
        "\n"
      ]
    },
    {
      "cell_type": "code",
      "execution_count": null,
      "metadata": {
        "id": "mxM_WppZPMFx"
      },
      "outputs": [],
      "source": [
        "# Work with Data\n",
        "import pandas as pd\n",
        "\n",
        "path=\"./clients.csv\"\n",
        "df=pd.read_csv(path)\n",
        "df.head() "
      ]
    },
    {
      "cell_type": "code",
      "execution_count": null,
      "metadata": {},
      "outputs": [],
      "source": [
        "import pandas as pd\n",
        "import numpy as np\n",
        "\n",
        "# Verification of Null values:\n",
        "print(df.isnull().values.any())\n",
        "\n",
        "# Before any transformation we must copy the dataframe\n",
        "ndf = df.copy()\n",
        "ndf.describe()\n"
      ]
    },
    {
      "cell_type": "markdown",
      "metadata": {},
      "source": [
        "Primera transformación \n",
        "Validación de número de nulos por columna\n",
        "Validar si es viable quitar columnas por el número de registros nulos\n",
        "Se pueden eliminar 52 renglones dado que estos no tienen datos en todas las columnas"
      ]
    },
    {
      "cell_type": "code",
      "execution_count": null,
      "metadata": {},
      "outputs": [],
      "source": [
        "ndf.dropna(thresh = 25, inplace = True)  \n",
        "ndf.describe()"
      ]
    },
    {
      "cell_type": "markdown",
      "metadata": {},
      "source": [
        "Se hace analisis para determinar si se pueden eliminar columnas\n",
        "Se determina que la columna x6 y Y no son significativas por que su promedio se acerca a 0 y no se tienen datos unicos suficientes solo dos"
      ]
    },
    {
      "cell_type": "code",
      "execution_count": null,
      "metadata": {},
      "outputs": [],
      "source": [
        "print(ndf.X2.unique()) # 2 valores\n",
        "print(ndf.X4.unique()) # 4 valores\n",
        "print(ndf.Y.unique()) # 2 valores\n",
        "print(ndf.X6.median()) # 0 mediana\n",
        "print(ndf.X7.median()) # 0 mediana\n",
        "print(ndf.X8.median()) # 0 mediana\n",
        "print(ndf.X9.median()) # 0 mediana\n",
        "print(ndf.X10.median()) # 0 mediana\n",
        "print(ndf.X11.median()) # 0 mediana\n",
        "print(ndf.Y.median()) # 0 mediana\n",
        "print(ndf.X6.mean()) # tiende a 0\n",
        "print(ndf.Y.mean()) # tiende a 0\n",
        "\n",
        "\n",
        "ndf.drop( labels=['X6','Y'] , axis=1, inplace=True)\n",
        "ndf\n",
        "\n",
        "\n"
      ]
    }
  ],
  "metadata": {
    "colab": {
      "include_colab_link": true,
      "name": "assignment01.ipynb",
      "provenance": []
    },
    "kernelspec": {
      "display_name": "Python 3.10.1 64-bit",
      "language": "python",
      "name": "python3"
    },
    "language_info": {
      "codemirror_mode": {
        "name": "ipython",
        "version": 3
      },
      "file_extension": ".py",
      "mimetype": "text/x-python",
      "name": "python",
      "nbconvert_exporter": "python",
      "pygments_lexer": "ipython3",
      "version": "3.10.1"
    },
    "vscode": {
      "interpreter": {
        "hash": "369f2c481f4da34e4445cda3fffd2e751bd1c4d706f27375911949ba6bb62e1c"
      }
    }
  },
  "nbformat": 4,
  "nbformat_minor": 0
}
